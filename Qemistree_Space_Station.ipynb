{
 "cells": [
  {
   "cell_type": "code",
   "execution_count": 3,
   "id": "37d17c8d",
   "metadata": {},
   "outputs": [],
   "source": [
    "import qiime2\n",
    "import os\n",
    "import pandas as pd"
   ]
  },
  {
   "cell_type": "code",
   "execution_count": 41,
   "id": "ecaa848b",
   "metadata": {},
   "outputs": [
    {
     "name": "stdout",
     "output_type": "stream",
     "text": [
      "/Users/helenarusso/Downloads/Nina/Consider these - NEG/Qemistree_results\n"
     ]
    }
   ],
   "source": [
    "cd /Users/helenarusso/Downloads/Nina/Consider these - NEG/Qemistree_results"
   ]
  },
  {
   "cell_type": "code",
   "execution_count": 42,
   "id": "7112bf12",
   "metadata": {},
   "outputs": [
    {
     "name": "stdout",
     "output_type": "stream",
     "text": [
      "Imported /Users/helenarusso/Downloads/Nina/Consider these - NEG/20220326_3DMM_neg_SIRIUS_DuplicateFiltered_spectype_removed_sirius_results_5_8_3 as SiriusDirFmt to 20220326_3DMM_neg_SIRIUS_DuplicateFiltered_spectype_removed_sirius_results_5_8_3.qza\n"
     ]
    },
    {
     "name": "stderr",
     "output_type": "stream",
     "text": [
      "bash: line 2: activate: No such file or directory\n"
     ]
    }
   ],
   "source": [
    "%%bash\n",
    "\n",
    "### If Sirius was run in command line outside of qiime2 environment, the folder can be imported as a SiriusFolder.\n",
    "\n",
    "source activate qiime2-2021.8\n",
    "\n",
    "qiime tools import --input-path '/Users/helenarusso/Downloads/Nina/Consider these - NEG/20220326_3DMM_neg_SIRIUS_DuplicateFiltered_spectype_removed_sirius_results_5_8_3' \\\n",
    "--output-path 20220326_3DMM_neg_SIRIUS_DuplicateFiltered_spectype_removed_sirius_results_5_8_3.qza \\\n",
    "--type SiriusFolder"
   ]
  },
  {
   "cell_type": "code",
   "execution_count": null,
   "id": "2f890461",
   "metadata": {},
   "outputs": [],
   "source": [
    "### We also need to import the feature table, convert to biom, and then to qza."
   ]
  },
  {
   "cell_type": "code",
   "execution_count": 22,
   "id": "e971fc1d",
   "metadata": {},
   "outputs": [],
   "source": [
    "#import feature table\n",
    "\n",
    "ftable=pd.read_csv('/Users/helenarusso/Downloads/Nina/Consider these - NEG/20220326_3DMM_neg_FBMN_DuplicateFiltered.csv', \n",
    "                     sep=';', index_col='sample_name')"
   ]
  },
  {
   "cell_type": "code",
   "execution_count": 23,
   "id": "50dab910",
   "metadata": {},
   "outputs": [],
   "source": [
    "#format for qiime2 conversion\n",
    "\n",
    "ftable.reset_index().to_csv('20220326_3DMM_neg_FBMN_DuplicateFiltered.txt', sep='\\t', index=False)\n"
   ]
  },
  {
   "cell_type": "code",
   "execution_count": 25,
   "id": "7b08a877",
   "metadata": {},
   "outputs": [
    {
     "name": "stderr",
     "output_type": "stream",
     "text": [
      "bash: line 2: activate: No such file or directory\n"
     ]
    }
   ],
   "source": [
    "%%bash\n",
    "\n",
    "source activate qiime2-2021.8\n",
    "\n",
    "biom convert -i 20220326_3DMM_neg_FBMN_DuplicateFiltered.txt \\\n",
    "-o 20220326_3DMM_neg_FBMN_finaltry_DuplicateFiltered.biom --to-hdf5\n",
    "\n"
   ]
  },
  {
   "cell_type": "code",
   "execution_count": 26,
   "id": "52cf4632",
   "metadata": {},
   "outputs": [
    {
     "name": "stdout",
     "output_type": "stream",
     "text": [
      "Imported 20220326_3DMM_neg_FBMN_finaltry_DuplicateFiltered.biom as BIOMV210DirFmt to 20220326_3DMM_neg_FBMN_finaltry_DuplicateFiltered.qza\n"
     ]
    },
    {
     "name": "stderr",
     "output_type": "stream",
     "text": [
      "bash: line 2: activate: No such file or directory\n"
     ]
    }
   ],
   "source": [
    "%%bash\n",
    "\n",
    "source activate qiime2-2020.2\n",
    "\n",
    "qiime tools import --input-path 20220326_3DMM_neg_FBMN_finaltry_DuplicateFiltered.biom \\\n",
    "--output-path 20220326_3DMM_neg_FBMN_finaltry_DuplicateFiltered.qza \\\n",
    "--type FeatureTable[Frequency]\n"
   ]
  },
  {
   "cell_type": "code",
   "execution_count": 14,
   "id": "d0dbe64d",
   "metadata": {
    "collapsed": true,
    "jupyter": {
     "outputs_hidden": true
    }
   },
   "outputs": [
    {
     "name": "stdout",
     "output_type": "stream",
     "text": [
      "Imported /Users/helenarusso/Downloads/Nina/test_data/sirius.mgf as MGFFile to /Users/helenarusso/Downloads/Nina/test_data/sirius.qza\n"
     ]
    },
    {
     "name": "stderr",
     "output_type": "stream",
     "text": [
      "bash: line 2: activate: No such file or directory\n",
      "/Users/helenarusso/opt/miniconda3/envs/qiime2-2021.8/lib/python3.8/site-packages/q2_qemistree/_semantics.py:31: UserWarning: At least one feature (Feature ID = \"5\") does not have MS2 information\n",
      "  warnings.warn('At least one feature (Feature ID = '\n",
      "/Users/helenarusso/opt/miniconda3/envs/qiime2-2021.8/lib/python3.8/site-packages/q2_qemistree/_semantics.py:31: UserWarning: At least one feature (Feature ID = \"12\") does not have MS2 information\n",
      "  warnings.warn('At least one feature (Feature ID = '\n",
      "/Users/helenarusso/opt/miniconda3/envs/qiime2-2021.8/lib/python3.8/site-packages/q2_qemistree/_semantics.py:31: UserWarning: At least one feature (Feature ID = \"18\") does not have MS2 information\n",
      "  warnings.warn('At least one feature (Feature ID = '\n",
      "/Users/helenarusso/opt/miniconda3/envs/qiime2-2021.8/lib/python3.8/site-packages/q2_qemistree/_semantics.py:31: UserWarning: At least one feature (Feature ID = \"20\") does not have MS2 information\n",
      "  warnings.warn('At least one feature (Feature ID = '\n",
      "/Users/helenarusso/opt/miniconda3/envs/qiime2-2021.8/lib/python3.8/site-packages/q2_qemistree/_semantics.py:31: UserWarning: At least one feature (Feature ID = \"27\") does not have MS2 information\n",
      "  warnings.warn('At least one feature (Feature ID = '\n",
      "/Users/helenarusso/opt/miniconda3/envs/qiime2-2021.8/lib/python3.8/site-packages/q2_qemistree/_semantics.py:31: UserWarning: At least one feature (Feature ID = \"30\") does not have MS2 information\n",
      "  warnings.warn('At least one feature (Feature ID = '\n",
      "/Users/helenarusso/opt/miniconda3/envs/qiime2-2021.8/lib/python3.8/site-packages/q2_qemistree/_semantics.py:31: UserWarning: At least one feature (Feature ID = \"32\") does not have MS2 information\n",
      "  warnings.warn('At least one feature (Feature ID = '\n",
      "/Users/helenarusso/opt/miniconda3/envs/qiime2-2021.8/lib/python3.8/site-packages/q2_qemistree/_semantics.py:31: UserWarning: At least one feature (Feature ID = \"33\") does not have MS2 information\n",
      "  warnings.warn('At least one feature (Feature ID = '\n",
      "/Users/helenarusso/opt/miniconda3/envs/qiime2-2021.8/lib/python3.8/site-packages/q2_qemistree/_semantics.py:31: UserWarning: At least one feature (Feature ID = \"37\") does not have MS2 information\n",
      "  warnings.warn('At least one feature (Feature ID = '\n",
      "/Users/helenarusso/opt/miniconda3/envs/qiime2-2021.8/lib/python3.8/site-packages/q2_qemistree/_semantics.py:31: UserWarning: At least one feature (Feature ID = \"38\") does not have MS2 information\n",
      "  warnings.warn('At least one feature (Feature ID = '\n",
      "/Users/helenarusso/opt/miniconda3/envs/qiime2-2021.8/lib/python3.8/site-packages/q2_qemistree/_semantics.py:31: UserWarning: At least one feature (Feature ID = \"39\") does not have MS2 information\n",
      "  warnings.warn('At least one feature (Feature ID = '\n",
      "/Users/helenarusso/opt/miniconda3/envs/qiime2-2021.8/lib/python3.8/site-packages/q2_qemistree/_semantics.py:31: UserWarning: At least one feature (Feature ID = \"41\") does not have MS2 information\n",
      "  warnings.warn('At least one feature (Feature ID = '\n",
      "/Users/helenarusso/opt/miniconda3/envs/qiime2-2021.8/lib/python3.8/site-packages/q2_qemistree/_semantics.py:31: UserWarning: At least one feature (Feature ID = \"43\") does not have MS2 information\n",
      "  warnings.warn('At least one feature (Feature ID = '\n",
      "/Users/helenarusso/opt/miniconda3/envs/qiime2-2021.8/lib/python3.8/site-packages/q2_qemistree/_semantics.py:31: UserWarning: At least one feature (Feature ID = \"44\") does not have MS2 information\n",
      "  warnings.warn('At least one feature (Feature ID = '\n",
      "/Users/helenarusso/opt/miniconda3/envs/qiime2-2021.8/lib/python3.8/site-packages/q2_qemistree/_semantics.py:31: UserWarning: At least one feature (Feature ID = \"45\") does not have MS2 information\n",
      "  warnings.warn('At least one feature (Feature ID = '\n",
      "/Users/helenarusso/opt/miniconda3/envs/qiime2-2021.8/lib/python3.8/site-packages/q2_qemistree/_semantics.py:31: UserWarning: At least one feature (Feature ID = \"46\") does not have MS2 information\n",
      "  warnings.warn('At least one feature (Feature ID = '\n",
      "/Users/helenarusso/opt/miniconda3/envs/qiime2-2021.8/lib/python3.8/site-packages/q2_qemistree/_semantics.py:31: UserWarning: At least one feature (Feature ID = \"47\") does not have MS2 information\n",
      "  warnings.warn('At least one feature (Feature ID = '\n",
      "/Users/helenarusso/opt/miniconda3/envs/qiime2-2021.8/lib/python3.8/site-packages/q2_qemistree/_semantics.py:31: UserWarning: At least one feature (Feature ID = \"48\") does not have MS2 information\n",
      "  warnings.warn('At least one feature (Feature ID = '\n",
      "/Users/helenarusso/opt/miniconda3/envs/qiime2-2021.8/lib/python3.8/site-packages/q2_qemistree/_semantics.py:31: UserWarning: At least one feature (Feature ID = \"51\") does not have MS2 information\n",
      "  warnings.warn('At least one feature (Feature ID = '\n",
      "/Users/helenarusso/opt/miniconda3/envs/qiime2-2021.8/lib/python3.8/site-packages/q2_qemistree/_semantics.py:31: UserWarning: At least one feature (Feature ID = \"52\") does not have MS2 information\n",
      "  warnings.warn('At least one feature (Feature ID = '\n",
      "/Users/helenarusso/opt/miniconda3/envs/qiime2-2021.8/lib/python3.8/site-packages/q2_qemistree/_semantics.py:31: UserWarning: At least one feature (Feature ID = \"57\") does not have MS2 information\n",
      "  warnings.warn('At least one feature (Feature ID = '\n",
      "/Users/helenarusso/opt/miniconda3/envs/qiime2-2021.8/lib/python3.8/site-packages/q2_qemistree/_semantics.py:31: UserWarning: At least one feature (Feature ID = \"59\") does not have MS2 information\n",
      "  warnings.warn('At least one feature (Feature ID = '\n",
      "/Users/helenarusso/opt/miniconda3/envs/qiime2-2021.8/lib/python3.8/site-packages/q2_qemistree/_semantics.py:31: UserWarning: At least one feature (Feature ID = \"61\") does not have MS2 information\n",
      "  warnings.warn('At least one feature (Feature ID = '\n"
     ]
    }
   ],
   "source": [
    "%%bash\n",
    "\n",
    "### If Sirius was still NOT RUN outside the Qiime2 environment, the sirius.mfg file can be imported as \n",
    "### a MassSpectrometryFeatures file.\n",
    "\n",
    "source activate qiime2-2021.8\n",
    "\n",
    "qiime tools import --input-path '/Users/helenarusso/Downloads/Nina/test_data/sirius.mgf' \\\n",
    "--output-path '/Users/helenarusso/Downloads/Nina/test_data/sirius.qza' \\\n",
    "--type MassSpectrometryFeatures"
   ]
  },
  {
   "cell_type": "code",
   "execution_count": 3,
   "id": "0644bc47",
   "metadata": {},
   "outputs": [
    {
     "name": "stdout",
     "output_type": "stream",
     "text": [
      "Saved SiriusFolder to: /Users/helenarusso/Downloads/Nina/test_data/sirius_to_canopus.qza\n"
     ]
    },
    {
     "name": "stderr",
     "output_type": "stream",
     "text": [
      "bash: line 2: activate: No such file or directory\n"
     ]
    }
   ],
   "source": [
    "%%bash\n",
    "\n",
    "### If Sirius was still NOT RUN outside the Qiime2 environment, it can be run here using the following commands\n",
    "### PS: not recommended.\n",
    "\n",
    "source activate qiime2-2021.8\n",
    "\n",
    "qiime qemistree compute-fingerprint-classes \\\n",
    "  --i-features '/Users/helenarusso/Downloads/Nina/test_data/sirius.qza' \\\n",
    "  --p-sirius-path '/Users/helenarusso/Desktop/sirius_5_6_2.app/Contents/MacOS/' \\\n",
    "  --p-n-jobs 8 \\\n",
    "  --p-ppm-max 10 \\\n",
    "  --p-profile orbitrap \\\n",
    "  --p-maxmz 600 \\\n",
    "  --p-tree-timeout 1600 \\\n",
    "  --p-num-candidates 50 \\\n",
    "  --p-database 'all' \\\n",
    "  --p-ions-considered '[M+H]+' \\\n",
    "  --p-java-flags \"-Djava.io.tmpdir=/Users/helenarusso/ -Xms32G -Xmx54G\" \\\n",
    "  --p-zodiac-threshold 0.98 \\\n",
    "  --p-fingerid-db 'BIO,PUBCHEM,MESH,HMDB,KNAPSACK,CHEBI,PUBMED,KEGG,HSDB,MACONDA,METACYC,GNPS,ZINCBIO,UNDP,YMDB,PLANTCYC,NORMAN,ADDITIONAL,PUBCHEMANNOTATIONBIO,PUBCHEMANNOTATIONDRUG,PUBCHEMANNOTATIONSAFETYANDTOXIC,PUBCHEMANNOTATIONFOOD,KEGGMINE,ECOCYCMINE,YMDBMINE' \\\n",
    "  --o-fragmentation-trees '/Users/helenarusso/Downloads/Nina/test_data/sirius_to_canopus.qza'\n",
    "  "
   ]
  },
  {
   "cell_type": "code",
   "execution_count": null,
   "id": "944f6a77",
   "metadata": {},
   "outputs": [],
   "source": []
  },
  {
   "cell_type": "code",
   "execution_count": null,
   "id": "24fdfad8",
   "metadata": {},
   "outputs": [],
   "source": [
    "### After this point, regardless if you ran Sirius using the previous cell, or if you imported the SiriusFolder,\n",
    "### you can proceed to the make-hyerarchy step. "
   ]
  },
  {
   "cell_type": "code",
   "execution_count": 1,
   "id": "bbeeec4d",
   "metadata": {
    "collapsed": true,
    "jupyter": {
     "outputs_hidden": true
    }
   },
   "outputs": [
    {
     "name": "stderr",
     "output_type": "stream",
     "text": [
      "bash: line 2: activate: No such file or directory\n",
      "Usage: qiime qemistree make-hierarchy [OPTIONS]\n",
      "\n",
      "  Build a phylogeny based on molecular substructures\n",
      "\n",
      "Inputs:\n",
      "  --i-csi-results ARTIFACTS... List[SiriusFolder]\n",
      "                       one or more CSI:FingerID results from the\n",
      "                       sirius-outputfolder                          [required]\n",
      "  --i-feature-tables ARTIFACTS... List[FeatureTable[Frequency]]\n",
      "                       one or more feature tables with mass-spec feature\n",
      "                       intensity per sample                         [required]\n",
      "  --i-library-matches ARTIFACTS... List[FeatureData[Molecules]]\n",
      "                       one or more tables with MS/MS library match for\n",
      "                       mass-spec features                           [optional]\n",
      "Parameters:\n",
      "  --p-metric TEXT Choices('euclidean', 'jaccard')\n",
      "                       metric for hierarchical clustering of fingerprints. If\n",
      "                       the Jaccard metric is selected, molecular fingerprints\n",
      "                       are first binarized (probabilities above 0.5 are True,\n",
      "                       and False otherwise).            [default: 'euclidean']\n",
      "Outputs:\n",
      "  --o-tree ARTIFACT    Tree of relatedness between mass spectrometry features\n",
      "    Phylogeny[Rooted]  based on the chemical substructures within those\n",
      "                       features                                     [required]\n",
      "  --o-feature-table ARTIFACT FeatureTable[Frequency]\n",
      "                       filtered feature table that contains only the features\n",
      "                       present in the tree                          [required]\n",
      "  --o-feature-data ARTIFACT FeatureData[Molecules]\n",
      "                       mapping of unique feature identifiers in input feature\n",
      "                       tables to MD5 hash of feature fingerprints   [required]\n",
      "Miscellaneous:\n",
      "  --output-dir PATH    Output unspecified results to a directory\n",
      "  --verbose / --quiet  Display verbose output to stdout and/or stderr during\n",
      "                       execution of this action. Or silence output if\n",
      "                       execution is successful (silence is golden).\n",
      "  --examples           Show usage examples and exit.\n",
      "  --citations          Show citations and exit.\n",
      "  --help               Show this message and exit.\n",
      "\n",
      "                  There were some problems with the command:                  \n",
      " (1/5) Missing option '--i-csi-results'.\n",
      " (2/5) Missing option '--i-feature-tables'.\n",
      " (3/5) Missing option '--o-tree'.  (\"--output-dir\" may also be used)\n",
      " (4/5) Missing option '--o-feature-table'.  (\"--output-dir\" may also be used)\n",
      " (5/5) Missing option '--o-feature-data'.  (\"--output-dir\" may also be used)\n",
      "bash: line 8: --i-csi-results: command not found\n"
     ]
    },
    {
     "ename": "CalledProcessError",
     "evalue": "Command 'b'\\nsource activate qiime2-2021.8\\n#   in case you want to add structural annotations made using MS/MS spectral library matches:\\n#   --i-ms2-matches /path-to-MS2-spectral-matches.qza/ \\\\\\n#   --i-library-matches MS2-spectral-matches_567f0153d401458ba9ff7964c2a1aa72.qza \\\\\\n\\nqiime qemistree make-hierarchy \\n  --i-csi-results 20220326_3DMM_neg_SIRIUS_DuplicateFiltered_spectype_removed_sirius_results_5_8_3.qza \\\\\\n  --i-feature-tables 20220326_3DMM_neg_FBMN_finaltry_DuplicateFiltered.qza \\\\\\n  --o-tree 20220314_3DMM_neg_qemistree_sirius5.qza \\\\\\n  --o-feature-table 20220314_3DMM_neg_feature-table-hashed_sirius5.qza \\\\\\n  --o-feature-data 20220314_3DMM_neg_feature-data_sirius5.qza \\\\\\n  --verbose\\n'' returned non-zero exit status 127.",
     "output_type": "error",
     "traceback": [
      "\u001b[0;31m---------------------------------------------------------------------------\u001b[0m",
      "\u001b[0;31mCalledProcessError\u001b[0m                        Traceback (most recent call last)",
      "\u001b[0;32m/var/folders/pj/_vwpjzj17kdbmdnz5sksrq0w0000gn/T/ipykernel_60270/1663283027.py\u001b[0m in \u001b[0;36m<module>\u001b[0;34m\u001b[0m\n\u001b[0;32m----> 1\u001b[0;31m \u001b[0mget_ipython\u001b[0m\u001b[0;34m(\u001b[0m\u001b[0;34m)\u001b[0m\u001b[0;34m.\u001b[0m\u001b[0mrun_cell_magic\u001b[0m\u001b[0;34m(\u001b[0m\u001b[0;34m'bash'\u001b[0m\u001b[0;34m,\u001b[0m \u001b[0;34m''\u001b[0m\u001b[0;34m,\u001b[0m \u001b[0;34m'\\nsource activate qiime2-2021.8\\n#   in case you want to add structural annotations made using MS/MS spectral library matches:\\n#   --i-ms2-matches /path-to-MS2-spectral-matches.qza/ \\\\\\n#   --i-library-matches MS2-spectral-matches_567f0153d401458ba9ff7964c2a1aa72.qza \\\\\\n\\nqiime qemistree make-hierarchy \\n  --i-csi-results 20220326_3DMM_neg_SIRIUS_DuplicateFiltered_spectype_removed_sirius_results_5_8_3.qza \\\\\\n  --i-feature-tables 20220326_3DMM_neg_FBMN_finaltry_DuplicateFiltered.qza \\\\\\n  --o-tree 20220314_3DMM_neg_qemistree_sirius5.qza \\\\\\n  --o-feature-table 20220314_3DMM_neg_feature-table-hashed_sirius5.qza \\\\\\n  --o-feature-data 20220314_3DMM_neg_feature-data_sirius5.qza \\\\\\n  --verbose\\n'\u001b[0m\u001b[0;34m)\u001b[0m\u001b[0;34m\u001b[0m\u001b[0;34m\u001b[0m\u001b[0m\n\u001b[0m",
      "\u001b[0;32m~/opt/miniconda3/envs/qiime2-2021.8/lib/python3.8/site-packages/IPython/core/interactiveshell.py\u001b[0m in \u001b[0;36mrun_cell_magic\u001b[0;34m(self, magic_name, line, cell)\u001b[0m\n\u001b[1;32m   2401\u001b[0m             \u001b[0;32mwith\u001b[0m \u001b[0mself\u001b[0m\u001b[0;34m.\u001b[0m\u001b[0mbuiltin_trap\u001b[0m\u001b[0;34m:\u001b[0m\u001b[0;34m\u001b[0m\u001b[0;34m\u001b[0m\u001b[0m\n\u001b[1;32m   2402\u001b[0m                 \u001b[0margs\u001b[0m \u001b[0;34m=\u001b[0m \u001b[0;34m(\u001b[0m\u001b[0mmagic_arg_s\u001b[0m\u001b[0;34m,\u001b[0m \u001b[0mcell\u001b[0m\u001b[0;34m)\u001b[0m\u001b[0;34m\u001b[0m\u001b[0;34m\u001b[0m\u001b[0m\n\u001b[0;32m-> 2403\u001b[0;31m                 \u001b[0mresult\u001b[0m \u001b[0;34m=\u001b[0m \u001b[0mfn\u001b[0m\u001b[0;34m(\u001b[0m\u001b[0;34m*\u001b[0m\u001b[0margs\u001b[0m\u001b[0;34m,\u001b[0m \u001b[0;34m**\u001b[0m\u001b[0mkwargs\u001b[0m\u001b[0;34m)\u001b[0m\u001b[0;34m\u001b[0m\u001b[0;34m\u001b[0m\u001b[0m\n\u001b[0m\u001b[1;32m   2404\u001b[0m             \u001b[0;32mreturn\u001b[0m \u001b[0mresult\u001b[0m\u001b[0;34m\u001b[0m\u001b[0;34m\u001b[0m\u001b[0m\n\u001b[1;32m   2405\u001b[0m \u001b[0;34m\u001b[0m\u001b[0m\n",
      "\u001b[0;32m~/opt/miniconda3/envs/qiime2-2021.8/lib/python3.8/site-packages/IPython/core/magics/script.py\u001b[0m in \u001b[0;36mnamed_script_magic\u001b[0;34m(line, cell)\u001b[0m\n\u001b[1;32m    140\u001b[0m             \u001b[0;32melse\u001b[0m\u001b[0;34m:\u001b[0m\u001b[0;34m\u001b[0m\u001b[0;34m\u001b[0m\u001b[0m\n\u001b[1;32m    141\u001b[0m                 \u001b[0mline\u001b[0m \u001b[0;34m=\u001b[0m \u001b[0mscript\u001b[0m\u001b[0;34m\u001b[0m\u001b[0;34m\u001b[0m\u001b[0m\n\u001b[0;32m--> 142\u001b[0;31m             \u001b[0;32mreturn\u001b[0m \u001b[0mself\u001b[0m\u001b[0;34m.\u001b[0m\u001b[0mshebang\u001b[0m\u001b[0;34m(\u001b[0m\u001b[0mline\u001b[0m\u001b[0;34m,\u001b[0m \u001b[0mcell\u001b[0m\u001b[0;34m)\u001b[0m\u001b[0;34m\u001b[0m\u001b[0;34m\u001b[0m\u001b[0m\n\u001b[0m\u001b[1;32m    143\u001b[0m \u001b[0;34m\u001b[0m\u001b[0m\n\u001b[1;32m    144\u001b[0m         \u001b[0;31m# write a basic docstring:\u001b[0m\u001b[0;34m\u001b[0m\u001b[0;34m\u001b[0m\u001b[0;34m\u001b[0m\u001b[0m\n",
      "\u001b[0;32m<decorator-gen-103>\u001b[0m in \u001b[0;36mshebang\u001b[0;34m(self, line, cell)\u001b[0m\n",
      "\u001b[0;32m~/opt/miniconda3/envs/qiime2-2021.8/lib/python3.8/site-packages/IPython/core/magic.py\u001b[0m in \u001b[0;36m<lambda>\u001b[0;34m(f, *a, **k)\u001b[0m\n\u001b[1;32m    185\u001b[0m     \u001b[0;31m# but it's overkill for just that one bit of state.\u001b[0m\u001b[0;34m\u001b[0m\u001b[0;34m\u001b[0m\u001b[0;34m\u001b[0m\u001b[0m\n\u001b[1;32m    186\u001b[0m     \u001b[0;32mdef\u001b[0m \u001b[0mmagic_deco\u001b[0m\u001b[0;34m(\u001b[0m\u001b[0marg\u001b[0m\u001b[0;34m)\u001b[0m\u001b[0;34m:\u001b[0m\u001b[0;34m\u001b[0m\u001b[0;34m\u001b[0m\u001b[0m\n\u001b[0;32m--> 187\u001b[0;31m         \u001b[0mcall\u001b[0m \u001b[0;34m=\u001b[0m \u001b[0;32mlambda\u001b[0m \u001b[0mf\u001b[0m\u001b[0;34m,\u001b[0m \u001b[0;34m*\u001b[0m\u001b[0ma\u001b[0m\u001b[0;34m,\u001b[0m \u001b[0;34m**\u001b[0m\u001b[0mk\u001b[0m\u001b[0;34m:\u001b[0m \u001b[0mf\u001b[0m\u001b[0;34m(\u001b[0m\u001b[0;34m*\u001b[0m\u001b[0ma\u001b[0m\u001b[0;34m,\u001b[0m \u001b[0;34m**\u001b[0m\u001b[0mk\u001b[0m\u001b[0;34m)\u001b[0m\u001b[0;34m\u001b[0m\u001b[0;34m\u001b[0m\u001b[0m\n\u001b[0m\u001b[1;32m    188\u001b[0m \u001b[0;34m\u001b[0m\u001b[0m\n\u001b[1;32m    189\u001b[0m         \u001b[0;32mif\u001b[0m \u001b[0mcallable\u001b[0m\u001b[0;34m(\u001b[0m\u001b[0marg\u001b[0m\u001b[0;34m)\u001b[0m\u001b[0;34m:\u001b[0m\u001b[0;34m\u001b[0m\u001b[0;34m\u001b[0m\u001b[0m\n",
      "\u001b[0;32m~/opt/miniconda3/envs/qiime2-2021.8/lib/python3.8/site-packages/IPython/core/magics/script.py\u001b[0m in \u001b[0;36mshebang\u001b[0;34m(self, line, cell)\u001b[0m\n\u001b[1;32m    243\u001b[0m             \u001b[0msys\u001b[0m\u001b[0;34m.\u001b[0m\u001b[0mstderr\u001b[0m\u001b[0;34m.\u001b[0m\u001b[0mflush\u001b[0m\u001b[0;34m(\u001b[0m\u001b[0;34m)\u001b[0m\u001b[0;34m\u001b[0m\u001b[0;34m\u001b[0m\u001b[0m\n\u001b[1;32m    244\u001b[0m         \u001b[0;32mif\u001b[0m \u001b[0margs\u001b[0m\u001b[0;34m.\u001b[0m\u001b[0mraise_error\u001b[0m \u001b[0;32mand\u001b[0m \u001b[0mp\u001b[0m\u001b[0;34m.\u001b[0m\u001b[0mreturncode\u001b[0m\u001b[0;34m!=\u001b[0m\u001b[0;36m0\u001b[0m\u001b[0;34m:\u001b[0m\u001b[0;34m\u001b[0m\u001b[0;34m\u001b[0m\u001b[0m\n\u001b[0;32m--> 245\u001b[0;31m             \u001b[0;32mraise\u001b[0m \u001b[0mCalledProcessError\u001b[0m\u001b[0;34m(\u001b[0m\u001b[0mp\u001b[0m\u001b[0;34m.\u001b[0m\u001b[0mreturncode\u001b[0m\u001b[0;34m,\u001b[0m \u001b[0mcell\u001b[0m\u001b[0;34m,\u001b[0m \u001b[0moutput\u001b[0m\u001b[0;34m=\u001b[0m\u001b[0mout\u001b[0m\u001b[0;34m,\u001b[0m \u001b[0mstderr\u001b[0m\u001b[0;34m=\u001b[0m\u001b[0merr\u001b[0m\u001b[0;34m)\u001b[0m\u001b[0;34m\u001b[0m\u001b[0;34m\u001b[0m\u001b[0m\n\u001b[0m\u001b[1;32m    246\u001b[0m \u001b[0;34m\u001b[0m\u001b[0m\n\u001b[1;32m    247\u001b[0m     \u001b[0;32mdef\u001b[0m \u001b[0m_run_script\u001b[0m\u001b[0;34m(\u001b[0m\u001b[0mself\u001b[0m\u001b[0;34m,\u001b[0m \u001b[0mp\u001b[0m\u001b[0;34m,\u001b[0m \u001b[0mcell\u001b[0m\u001b[0;34m,\u001b[0m \u001b[0mto_close\u001b[0m\u001b[0;34m)\u001b[0m\u001b[0;34m:\u001b[0m\u001b[0;34m\u001b[0m\u001b[0;34m\u001b[0m\u001b[0m\n",
      "\u001b[0;31mCalledProcessError\u001b[0m: Command 'b'\\nsource activate qiime2-2021.8\\n#   in case you want to add structural annotations made using MS/MS spectral library matches:\\n#   --i-ms2-matches /path-to-MS2-spectral-matches.qza/ \\\\\\n#   --i-library-matches MS2-spectral-matches_567f0153d401458ba9ff7964c2a1aa72.qza \\\\\\n\\nqiime qemistree make-hierarchy \\n  --i-csi-results 20220326_3DMM_neg_SIRIUS_DuplicateFiltered_spectype_removed_sirius_results_5_8_3.qza \\\\\\n  --i-feature-tables 20220326_3DMM_neg_FBMN_finaltry_DuplicateFiltered.qza \\\\\\n  --o-tree 20220314_3DMM_neg_qemistree_sirius5.qza \\\\\\n  --o-feature-table 20220314_3DMM_neg_feature-table-hashed_sirius5.qza \\\\\\n  --o-feature-data 20220314_3DMM_neg_feature-data_sirius5.qza \\\\\\n  --verbose\\n'' returned non-zero exit status 127."
     ]
    }
   ],
   "source": [
    "%%bash\n",
    "\n",
    "source activate qiime2-2021.8\n",
    "#   in case you want to add structural annotations made using MS/MS spectral library matches:\n",
    "#   --i-ms2-matches /path-to-MS2-spectral-matches.qza/ \\\n",
    "#   --i-library-matches MS2-spectral-matches_567f0153d401458ba9ff7964c2a1aa72.qza \\\n",
    "\n",
    "qiime qemistree make-hierarchy \\\n",
    "  --i-csi-results 20220314_3DMM_pos_SIRIUS_finaltry_filtered_spectype_removed_sirius_results_5_8_3.qza \\\n",
    "  --i-feature-tables 20220326_3DMM_pos_FBMN_finaltry_DuplicateFiltered.qza \\\n",
    "  --o-tree 20220314_3DMM_pos_qemistree_sirius5.qza \\\n",
    "  --o-feature-table 20220314_3DMM_pos_feature-table-hashed_sirius5.qza \\\n",
    "  --o-feature-data 20220314_3DMM_pos_feature-data_sirius5.qza \\\n",
    "  --verbose"
   ]
  },
  {
   "cell_type": "code",
   "execution_count": null,
   "id": "7485ca8e",
   "metadata": {},
   "outputs": [],
   "source": [
    "%%bash\n",
    "\n",
    "### This step is only if you really just want to have the classifyre classifications not using CANOPUS (which \n",
    "### was trained both in NPclassifier and ClassyFire).\n",
    "\n",
    "### We already had the get-classyfire-taxonomy in the previous version and just kept it as an option.\n",
    "\n",
    "source activate qiime2-2021.8\n",
    "\n",
    "qiime qemistree get-classyfire-taxonomy \\\n",
    "  --i-feature-data feature-data_sirius5_test.qza \\\n",
    "  --o-classified-feature-data feature-data_sirius5_test_classifyre.qza"
   ]
  },
  {
   "cell_type": "code",
   "execution_count": 17,
   "id": "f6bfcc94",
   "metadata": {},
   "outputs": [
    {
     "name": "stdout",
     "output_type": "stream",
     "text": [
      "Saved Phylogeny[Rooted] to: 20220314_3DMM_pos_qemistree_sirius5_pruned_NPCclass.qza\n"
     ]
    },
    {
     "name": "stderr",
     "output_type": "stream",
     "text": [
      "bash: line 4: activate: No such file or directory\n"
     ]
    }
   ],
   "source": [
    "%%bash\n",
    "\n",
    "#Example if we want to prune the tree to keep only the features classified up to a specific level (--p-column)\n",
    "\n",
    "source activate qiime2-2021.8\n",
    "\n",
    "qiime qemistree prune-hierarchy \\\n",
    "  --i-feature-data 20220314_3DMM_pos_feature-data_sirius5.qza \\\n",
    "  --i-tree 20220314_3DMM_pos_qemistree_sirius5.qza \\\n",
    "  --p-column 'NPC#class' \\\n",
    "  --o-pruned-tree 20220314_3DMM_pos_qemistree_sirius5_pruned_NPCclass.qza"
   ]
  },
  {
   "cell_type": "code",
   "execution_count": 18,
   "id": "a9256212",
   "metadata": {},
   "outputs": [
    {
     "name": "stdout",
     "output_type": "stream",
     "text": [
      "Saved Visualization to: qemistree-empress_sirius5_pruned_NPCclass.qzv\n"
     ]
    },
    {
     "name": "stderr",
     "output_type": "stream",
     "text": [
      "bash: line 2: activate: No such file or directory\n"
     ]
    }
   ],
   "source": [
    "%%bash\n",
    "\n",
    "#Get the visualization tree using EMPRESS\n",
    "\n",
    "source activate qiime2-2021.8\n",
    "\n",
    "\n",
    "qiime empress community-plot \\\n",
    "    --i-tree 20220314_3DMM_pos_qemistree_sirius5.qza \\  #generated in make-hierarchy\n",
    "    --i-feature-table 20220314_3DMM_pos_feature-table-hashed_sirius5.qza \\  #generated in make-hierarchy\n",
    "    --p-ignore-missing-samples \\\n",
    "    --p-filter-missing-features \\\n",
    "    --m-sample-metadata-file 20221018_metadata_pos_noISTDsampleRemoved.txt \\  #sample metadata\n",
    "    --m-feature-metadata-file 20220314_3DMM_pos_feature-data_sirius5.qza \\  #generated in make-hierarchy\n",
    "    --o-visualization qemistree-empress_sirius5_neg_not_pruned.qzv\n",
    "    \n",
    "    "
   ]
  },
  {
   "cell_type": "code",
   "execution_count": null,
   "id": "2395f3bc",
   "metadata": {},
   "outputs": [],
   "source": []
  },
  {
   "cell_type": "markdown",
   "id": "fe029ff1-6087-4bfd-a710-1c7bee7ea805",
   "metadata": {},
   "source": [
    "# Alpha-diversity"
   ]
  },
  {
   "cell_type": "code",
   "execution_count": null,
   "id": "7c444162-7736-4847-b18e-96b7b303549b",
   "metadata": {},
   "outputs": [],
   "source": [
    "%%bash\n",
    "\n",
    "source activate qiime2-2021.8\n",
    "\n",
    "qiime diversity alpha-phylogenetic \n",
    "--i-table 20220314_3DMM_pos_feature-table-hashed_sirius5.qza \\  #generated in make-hierarchy\n",
    "--i-phylogeny 20220314_3DMM_pos_qemistree_sirius5.qza \\  #generated in make-hierarchy\n",
    "--p-metric \"faith_pd\" \\  #select the metric of interest\n",
    "--o-alpha-diversity 20220314_3DMM_pos_alpha_diversity_faith_pd.qza \n"
   ]
  },
  {
   "cell_type": "code",
   "execution_count": null,
   "id": "c4c98a30-94e5-444e-8ea1-fc3670cd2598",
   "metadata": {},
   "outputs": [],
   "source": []
  },
  {
   "cell_type": "markdown",
   "id": "f5ef042a",
   "metadata": {},
   "source": [
    "# Distance Matrix and PCoA biplots"
   ]
  },
  {
   "cell_type": "code",
   "execution_count": null,
   "id": "2c4edfc9",
   "metadata": {},
   "outputs": [],
   "source": [
    "%%bash\n",
    "\n",
    "source activate qiime2-2021.8\n",
    "\n",
    "qiime diversity beta-phylogenetic \n",
    "--i-table 20220314_3DMM_pos_feature-table-hashed_sirius5.qza \\  #generated in make-hierarchy\n",
    "--i-phylogeny 20220314_3DMM_pos_qemistree_sirius5.qza \\  #generated in make-hierarchy\n",
    "--p-metric \"weighted_unifrac\" \\  #select the metric of interest\n",
    "--o-distance-matrix 20220314_3DMM_pos_distance_matrix_weighted_unifrac.qza \n"
   ]
  },
  {
   "cell_type": "code",
   "execution_count": null,
   "id": "93b61a23",
   "metadata": {},
   "outputs": [],
   "source": [
    "%%bash\n",
    "\n",
    "source activate qiime2-2021.8\n",
    "\n",
    "qiime diversity pcoa \\\n",
    "--i-distance-matrix 20220314_3DMM_pos_distance_matrix_weighted_unifrac.qza \\  #generated above\n",
    "--o-pcoa 20220314_3DMM_pos_distance_matrix_weighted_unifrac_PCoA.qza\n"
   ]
  },
  {
   "cell_type": "code",
   "execution_count": null,
   "id": "63fa997f-b0b9-4b6e-aa3c-b16872d1ff53",
   "metadata": {},
   "outputs": [],
   "source": [
    "%%bash\n",
    "\n",
    "source activate qiime2-2021.8\n",
    "\n",
    "qiime feature-table relative-frequency \\\n",
    "--i-table 20220314_3DMM_pos_feature-table-hashed_sirius5.qza \\\n",
    "--o-relative-frequency-table 20220314_3DMM_pos_feature_rel_freq_table.qza\n"
   ]
  },
  {
   "cell_type": "code",
   "execution_count": null,
   "id": "aaad6e25-c104-4936-9221-7cfabf53c716",
   "metadata": {},
   "outputs": [],
   "source": [
    "%%bash\n",
    "\n",
    "source activate qiime2-2021.8\n",
    "\n",
    "qiime diversity pcoa-biplot \n",
    "--i-pcoa 20220314_3DMM_pos_distance_matrix_weighted_unifrac_PCoA.qza \\\n",
    "--i-features 20220314_3DMM_pos_feature_rel_freq_table.qza \\\n",
    "--o-biplot 20220314_3DMM_pos_PCoA_biplot"
   ]
  },
  {
   "cell_type": "code",
   "execution_count": null,
   "id": "b89dcc51",
   "metadata": {},
   "outputs": [],
   "source": [
    "%%bash\n",
    "\n",
    "source activate qiime2-2021.8\n",
    "\n",
    "qiime emperor plot \\\n",
    " --i-biplot 20220314_3DMM_pos_PCoA_biplot \\  #generated above\n",
    " --m-sample-metadata-file 20221018_metadata_pos_noISTDsampleRemoved.txt \\  #sample metadata\n",
    " --m-feature-metadata-file 20231008_feature_structure_class.csv \\\n",
    " --p-number-of-features 10 \\\n",
    " --o-visualization 20220314_3DMM_pos_distance_matrix_weighted_unifrac_PCoA_biplot.qzv\n"
   ]
  },
  {
   "cell_type": "code",
   "execution_count": null,
   "id": "ca813ec0",
   "metadata": {},
   "outputs": [],
   "source": []
  },
  {
   "cell_type": "code",
   "execution_count": null,
   "id": "143e92df",
   "metadata": {},
   "outputs": [],
   "source": []
  },
  {
   "cell_type": "code",
   "execution_count": null,
   "id": "8505b8b1",
   "metadata": {},
   "outputs": [],
   "source": [
    "###optional"
   ]
  },
  {
   "cell_type": "code",
   "execution_count": 5,
   "id": "854585d0",
   "metadata": {},
   "outputs": [
    {
     "name": "stdout",
     "output_type": "stream",
     "text": [
      "Exported /Users/helenarusso/Downloads/Nina/test_data/sirius_to_canopus.qza as SiriusDirFmt to directory /Users/helenarusso/Downloads/Nina/test_data/sirius_to_canopus.qza_exported\n"
     ]
    },
    {
     "name": "stderr",
     "output_type": "stream",
     "text": [
      "bash: line 2: activate: No such file or directory\n"
     ]
    }
   ],
   "source": [
    "%%bash\n",
    "\n",
    "source activate qiime2-2021.8\n",
    "#export QZA file to see content\n",
    "\n",
    "qiime tools export \\\n",
    "    --input-path 20220314_3DMM_pos_feature-data_sirius5.qza \\  #select any QZA of interest\n",
    "    --output-path 20220314_3DMM_pos_feature-data_sirius5.qza_exported\n",
    "    \n",
    "    \n",
    "    "
   ]
  },
  {
   "cell_type": "code",
   "execution_count": null,
   "id": "4f8026bb",
   "metadata": {},
   "outputs": [],
   "source": []
  },
  {
   "cell_type": "code",
   "execution_count": null,
   "id": "08fa670b",
   "metadata": {},
   "outputs": [],
   "source": []
  },
  {
   "cell_type": "code",
   "execution_count": null,
   "id": "3ca0cd7e",
   "metadata": {},
   "outputs": [],
   "source": []
  },
  {
   "cell_type": "code",
   "execution_count": null,
   "id": "25b784be",
   "metadata": {},
   "outputs": [],
   "source": []
  }
 ],
 "metadata": {
  "kernelspec": {
   "display_name": "Python 3 (ipykernel)",
   "language": "python",
   "name": "python3"
  },
  "language_info": {
   "codemirror_mode": {
    "name": "ipython",
    "version": 3
   },
   "file_extension": ".py",
   "mimetype": "text/x-python",
   "name": "python",
   "nbconvert_exporter": "python",
   "pygments_lexer": "ipython3",
   "version": "3.10.13"
  }
 },
 "nbformat": 4,
 "nbformat_minor": 5
}
